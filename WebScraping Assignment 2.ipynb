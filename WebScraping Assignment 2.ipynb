{
 "cells": [
  {
   "cell_type": "code",
   "execution_count": 3,
   "id": "d5f7bece",
   "metadata": {},
   "outputs": [],
   "source": [
    "from bs4 import BeautifulSoup\n",
    "import requests\n",
    "import re"
   ]
  },
  {
   "cell_type": "code",
   "execution_count": 6,
   "id": "ef616392",
   "metadata": {},
   "outputs": [],
   "source": [
    "# Question 1 \n",
    "url= \"https://www.tigerdirect.com/applications/SearchTools/item-details.asp?EdpNo=1501390\"\n",
    "user_agent = {'User-Agent':\"Mozilla/5.0\"}\n",
    "page = requests.get(url, headers = user_agent)\n",
    "soup = BeautifulSoup(page.text,'lxml')\n",
    "\n",
    "list_prices = soup.select('div.pdp-price p.list-price span.sr-only')\n",
    "str1 = []\n",
    "for i in list_prices:\n",
    "    str1.append(i.text)\n",
    "    \n",
    "list_price = str1[0]"
   ]
  },
  {
   "cell_type": "code",
   "execution_count": 79,
   "id": "bebf3680",
   "metadata": {},
   "outputs": [],
   "source": [
    "sale_prices = soup.select('div.pdp-price p.final-price span.sr-only')\n",
    "str2 = []\n",
    "for i in sale_prices:\n",
    "    str2.append(i.text)\n",
    "\n",
    "sale_price = str2[0]"
   ]
  },
  {
   "cell_type": "code",
   "execution_count": 100,
   "id": "2cfbd969",
   "metadata": {},
   "outputs": [
    {
     "data": {
      "text/plain": [
       "'1399.99'"
      ]
     },
     "execution_count": 100,
     "metadata": {},
     "output_type": "execute_result"
    }
   ],
   "source": [
    "## Using regex Question 3\n",
    "\n",
    "#list_price_new = re.sub(\".*([0-9]),([0-9]{3}).*([0-9]{2}).*\",r\"\\1\\2.\\3\",list_price)\n",
    "list_price_new = re.sub(\"(?s).([0-9]),([0-9]{3}).*([0-9]{2}).*\",r\"\\1\\2.\\3\",list_price_new)\n",
    "list_price_new"
   ]
  },
  {
   "cell_type": "code",
   "execution_count": 101,
   "id": "6ad7ffeb",
   "metadata": {},
   "outputs": [
    {
     "data": {
      "text/plain": [
       "'1029.99'"
      ]
     },
     "execution_count": 101,
     "metadata": {},
     "output_type": "execute_result"
    }
   ],
   "source": [
    "sale_price_new = re.sub(\"(?s).([0-9]),([0-9]{3}).*([0-9]{2}).*\",r\"\\1\\2.\\3\",sale_price_new)\n",
    "sale_price_new"
   ]
  },
  {
   "cell_type": "code",
   "execution_count": 78,
   "id": "5e8bf3c4",
   "metadata": {},
   "outputs": [
    {
     "name": "stdout",
     "output_type": "stream",
     "text": [
      "1399.99\n",
      "1029.99\n"
     ]
    }
   ],
   "source": [
    "# Question 4 \n",
    "print(list_price_new, sale_price_new,sep = \"\\n\")"
   ]
  },
  {
   "cell_type": "code",
   "execution_count": 80,
   "id": "bbb26a2e",
   "metadata": {},
   "outputs": [
    {
     "data": {
      "text/plain": [
       "str"
      ]
     },
     "execution_count": 80,
     "metadata": {},
     "output_type": "execute_result"
    }
   ],
   "source": [
    "\n"
   ]
  },
  {
   "cell_type": "code",
   "execution_count": 12,
   "id": "e3617e18",
   "metadata": {},
   "outputs": [
    {
     "name": "stdout",
     "output_type": "stream",
     "text": [
      "https://www.usnews.com/news/economy/articles/2023-01-20/existing-homes-fall-1-5-in-december-marking-11th-month-of-declines\n"
     ]
    }
   ],
   "source": [
    "# Question 5 \n",
    "url2 = \"https://www.usnews.com\"\n",
    "user_agent2 = {'User-Agent':\"Mozilla/5.0\"}\n",
    "page2 = requests.get(url2, headers = user_agent2)\n",
    "soup2 = BeautifulSoup(page2.text,'lxml')\n",
    "\n",
    "top_stories = soup2.select('div.Box-w0dun1-0.ContentBox__Container-sc-1egb8dt-0.iZCosX.lmOexQ.ArmRestTopStories__CollapseBorderContentBox-s0vo7p-2.fTDCpH.ArmRestTopStories__CollapseBorderContentBox-s0vo7p-2.fTDCpH h3.Heading-sc-1w5xk2o-0.ContentBox__StoryHeading-sc-1egb8dt-3.MRvpF.fqJuKa.story-headline a')\n",
    "second_top = top_stories[1]\n",
    "second_top_url = second_top['href']\n",
    "print(second_top_url)"
   ]
  },
  {
   "cell_type": "code",
   "execution_count": 26,
   "id": "a520ab5a",
   "metadata": {},
   "outputs": [
    {
     "data": {
      "text/plain": [
       "['Sales of existing homes slid 1.5% in December, somewhat better than expected but the 11th straight month of decline, the National Association of Realtors said on Friday.',\n",
       " '',\n",
       " 'The number was better than estimates of a 3.4% drop and brings the annual rate of home sales just a hair above 4 million. Sales are now down 34% from year-ago levels.',\n",
       " '“December was another difficult month for buyers, who continue to face limited inventory and high mortgage rates,” said NAR Chief Economist Lawrence Yun. “However, expect sales to pick up again soon since mortgage rates have markedly declined after peaking late last year.”']"
      ]
     },
     "execution_count": 26,
     "metadata": {},
     "output_type": "execute_result"
    }
   ],
   "source": [
    "second_page = requests.get(second_top_url, headers = user_agent)\n",
    "second_top_soup = BeautifulSoup(second_page.text,'lxml')\n",
    "\n",
    "Headers = second_top_soup.select('h1.Heading-sc-1w5xk2o-0.iQhOvV')\n",
    "Headers[0].text\n",
    "\n",
    "Main_body = second_top_soup.select('div.Raw-slyvem-0.bCYKCn p')\n",
    "Paragraph = Main_body[0].text\n",
    "sentences = re.split('\\. |: |;', Paragraph)\n",
    "summary = ' '.join(sentences[:4])\n",
    "## Header\n",
    "print(Headers[0].text)\n",
    "summary"
   ]
  },
  {
   "cell_type": "code",
   "execution_count": null,
   "id": "3e384c8d",
   "metadata": {},
   "outputs": [],
   "source": []
  },
  {
   "cell_type": "code",
   "execution_count": 11,
   "id": "6205a36d",
   "metadata": {},
   "outputs": [
    {
     "data": {
      "text/plain": [
       "'The Dramatic Differences Between the Trump and Biden Document Dramas'"
      ]
     },
     "execution_count": 11,
     "metadata": {},
     "output_type": "execute_result"
    }
   ],
   "source": [
    "Headers[0].text"
   ]
  },
  {
   "cell_type": "code",
   "execution_count": 62,
   "id": "b2dc6b19",
   "metadata": {},
   "outputs": [
    {
     "data": {
      "text/plain": [
       "'Sales of existing homes slid 1.5% in December, somewhat better than expected but the 11th straight month of decline, the National Association of Realtors said on Friday.The number was better than estimates of a 3.4% drop and brings the annual rate of home sales just a hair above 4 million Sales are now down 34% from year-ago levels.'"
      ]
     },
     "execution_count": 62,
     "metadata": {},
     "output_type": "execute_result"
    }
   ],
   "source": [
    "Main_body = second_top_soup.select('div.Raw-slyvem-0.bCYKCn p')\n",
    "sent = []\n",
    "for sente in Main_body:\n",
    "    sent.append(sente.text)\n",
    "summary = sent[:3]\n",
    "\n",
    "answer = ''\n",
    "\n",
    "for x in summary:\n",
    "    answer = answer + x\n",
    "\n",
    "sentences = re.split('\\. |:|;', answer)\n",
    "first_three = ' '.join(sentences[:3])\n",
    "first_three"
   ]
  },
  {
   "cell_type": "code",
   "execution_count": 65,
   "id": "121015e4",
   "metadata": {},
   "outputs": [
    {
     "data": {
      "text/plain": [
       "'Sales of existing homes slid 1.5% in December, somewhat better than expected but the 11th straight month of decline, the National Association of Realtors said on Friday.The number was better than estimates of a 3.4% drop and brings the annual rate of home sales just a hair above 4 million. Sales are now down 34% from year-ago levels.'"
      ]
     },
     "execution_count": 65,
     "metadata": {},
     "output_type": "execute_result"
    }
   ],
   "source": []
  }
 ],
 "metadata": {
  "kernelspec": {
   "display_name": "Python 3",
   "language": "python",
   "name": "python3"
  },
  "language_info": {
   "codemirror_mode": {
    "name": "ipython",
    "version": 3
   },
   "file_extension": ".py",
   "mimetype": "text/x-python",
   "name": "python",
   "nbconvert_exporter": "python",
   "pygments_lexer": "ipython3",
   "version": "3.8.8"
  }
 },
 "nbformat": 4,
 "nbformat_minor": 5
}
